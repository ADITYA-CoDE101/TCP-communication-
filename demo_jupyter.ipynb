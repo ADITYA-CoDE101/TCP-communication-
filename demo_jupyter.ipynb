{
 "cells": [
  {
   "cell_type": "markdown",
   "id": "1de2bab5",
   "metadata": {},
   "source": [
    "# Jupyter Notebook Demo\n",
    "This notebook demonstrates how to create and interact with a Jupyter file programmatically."
   ]
  },
  {
   "cell_type": "markdown",
   "id": "13f78596",
   "metadata": {},
   "source": [
    "## 1. Import Jupyter Libraries\n",
    "Import necessary libraries such as nbformat for notebook manipulation."
   ]
  },
  {
   "cell_type": "code",
   "execution_count": null,
   "id": "7f62ab6e",
   "metadata": {},
   "outputs": [],
   "source": [
    "import nbformat\n",
    "from nbformat.v4 import new_notebook, new_code_cell, new_markdown_cell"
   ]
  },
  {
   "cell_type": "markdown",
   "id": "1b126ed1",
   "metadata": {},
   "source": [
    "## 2. Create a New Jupyter Notebook File\n",
    "Use nbformat to create a new notebook object and add initial metadata."
   ]
  },
  {
   "cell_type": "code",
   "execution_count": null,
   "id": "203ff9db",
   "metadata": {},
   "outputs": [],
   "source": [
    "nb = new_notebook()\n",
    "nb['cells'] = []\n",
    "nb['metadata'] = {'title': 'Demo Jupyter Notebook'}"
   ]
  },
  {
   "cell_type": "markdown",
   "id": "505d743b",
   "metadata": {},
   "source": [
    "## 3. Write and Save Code Cells\n",
    "Add code cells to the notebook object and save the notebook to disk as a .ipynb file."
   ]
  },
  {
   "cell_type": "code",
   "execution_count": null,
   "id": "3c063b9d",
   "metadata": {},
   "outputs": [],
   "source": [
    "nb['cells'].append(new_code_cell(\"print('Hello from a code cell!')\"))\n",
    "with open('demo_created.ipynb', 'w') as f:\n",
    "    nbformat.write(nb, f)"
   ]
  },
  {
   "cell_type": "markdown",
   "id": "f853f9f6",
   "metadata": {},
   "source": [
    "## 4. Run Code Cells\n",
    "Demonstrate how to execute code cells programmatically using nbconvert or other tools."
   ]
  },
  {
   "cell_type": "code",
   "execution_count": null,
   "id": "e8d5cfee",
   "metadata": {},
   "outputs": [],
   "source": [
    "# Run notebook cells using nbconvert\n",
    "import subprocess\n",
    "subprocess.run([\"jupyter\", \"nbconvert\", \"--to\", \"notebook\", \"--execute\", \"demo_created.ipynb\", \"--output\", \"demo_executed.ipynb\"])"
   ]
  },
  {
   "cell_type": "markdown",
   "id": "1c9aca47",
   "metadata": {},
   "source": [
    "## 5. Display Output in Notebook\n",
    "Show how outputs from code execution are stored and displayed within the notebook file."
   ]
  },
  {
   "cell_type": "code",
   "execution_count": null,
   "id": "180e4f2f",
   "metadata": {},
   "outputs": [],
   "source": [
    "# Load and display executed notebook outputs\n",
    "with open('demo_executed.ipynb') as f:\n",
    "    executed_nb = nbformat.read(f, as_version=4)\n",
    "for cell in executed_nb.cells:\n",
    "    if cell.cell_type == 'code' and 'outputs' in cell:\n",
    "        print(cell['outputs'])"
   ]
  }
 ],
 "metadata": {
  "language_info": {
   "name": "python"
  }
 },
 "nbformat": 4,
 "nbformat_minor": 5
}
