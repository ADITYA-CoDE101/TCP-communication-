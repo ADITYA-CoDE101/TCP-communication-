{
 "cells": [
  {
   "cell_type": "code",
   "execution_count": null,
   "id": "070fd97d",
   "metadata": {},
   "outputs": [
    {
     "name": "stdout",
     "output_type": "stream",
     "text": [
      "Worker received stop signal and is exiting.\n",
      "None\n",
      "Main thread: Worker has exited.\n"
     ]
    }
   ],
   "source": [
    "import threading\n",
    "import time\n",
    "\n",
    "# Create an Event object\n",
    "stop_event = threading.Event()\n",
    "# print(stop_event.is_set())\n",
    "def worker():\n",
    "    while not stop_event.is_set(): # stop_event.is_set() is initially False\n",
    "        print(\"Working...\")\n",
    "        time.sleep(1)\n",
    "    print(\"Worker received stop signal and is exiting.\")\n",
    "\n",
    "# Start the worker thread\n",
    "t = threading.Thread(target=worker)\n",
    "t.start()\n",
    "\n",
    "# Let the worker run for 3 seconds\n",
    "time.sleep(3)\n",
    "\n",
    "# Signal the worker to stop\n",
    "print(stop_event.set())\n",
    "stop_event.set()\n",
    "\n",
    "\n",
    "\n",
    "# Wait for the worker to finish\n",
    "t.join()\n",
    "print(\"Main thread: Worker has exited.\")"
   ]
  }
 ],
 "metadata": {
  "kernelspec": {
   "display_name": "Python 3",
   "language": "python",
   "name": "python3"
  },
  "language_info": {
   "codemirror_mode": {
    "name": "ipython",
    "version": 3
   },
   "file_extension": ".py",
   "mimetype": "text/x-python",
   "name": "python",
   "nbconvert_exporter": "python",
   "pygments_lexer": "ipython3",
   "version": "3.12.1"
  }
 },
 "nbformat": 4,
 "nbformat_minor": 5
}
