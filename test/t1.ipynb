{
 "cells": [
  {
   "cell_type": "code",
   "execution_count": 14,
   "id": "070fd97d",
   "metadata": {},
   "outputs": [
    {
     "name": "stdout",
     "output_type": "stream",
     "text": [
      "<bound method Event.is_set of <threading.Event at 0x73d1e9416ed0: unset>>\n",
      "1Working...\n",
      "2Working...\n"
     ]
    },
    {
     "name": "stdout",
     "output_type": "stream",
     "text": [
      "1Working...\n",
      "2Working...\n",
      "Worker2 received stop signal and is exiting.\n",
      "Worker2 received stop signal and is exiting.\n",
      "Main thread: Worker has exited.\n"
     ]
    }
   ],
   "source": [
    "import threading\n",
    "import time\n",
    "\n",
    "# Create an Event object\n",
    "stop_event = threading.Event()\n",
    "# print(stop_event.is_set())\n",
    "def worker1():\n",
    "    while not stop_event.is_set(): # stop_event.is_set() is initially False\n",
    "        print(\"1Working...\")\n",
    "        time.sleep(1)\n",
    "        \n",
    "    print(\"Worker2 received stop signal and is exiting.\")\n",
    "def worker2():\n",
    "    while not stop_event.is_set(): # stop_event.is_set() is initially False\n",
    "        print(\"2Working...\")\n",
    "        time.sleep(1)\n",
    "    print(\"Worker2 received stop signal and is exiting.\")\n",
    "print(stop_event.is_set)\n",
    "# Start the worker thread\n",
    "t1 = threading.Thread(target=worker1)\n",
    "t2 = threading.Thread(target=worker2)\n",
    "t1.start()\n",
    "t2.start()\n",
    "\n",
    "# Let the worker run for 3 seconds\n",
    "time.sleep(1)\n",
    "\n",
    "# Signal the worker to stop\n",
    "# print(stop_event.set())\n",
    "# stop_event.set()\n",
    "\n",
    "\n",
    "stop_event.set()\n",
    "\n",
    "# Wait for the worker to finish\n",
    "t1.join()\n",
    "t2.join()\n",
    "print(\"Main thread: Worker has exited.\")"
   ]
  }
 ],
 "metadata": {
  "kernelspec": {
   "display_name": "Python 3",
   "language": "python",
   "name": "python3"
  },
  "language_info": {
   "codemirror_mode": {
    "name": "ipython",
    "version": 3
   },
   "file_extension": ".py",
   "mimetype": "text/x-python",
   "name": "python",
   "nbconvert_exporter": "python",
   "pygments_lexer": "ipython3",
   "version": "3.12.1"
  }
 },
 "nbformat": 4,
 "nbformat_minor": 5
}
